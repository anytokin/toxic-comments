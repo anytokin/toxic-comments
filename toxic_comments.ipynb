{
  "nbformat": 4,
  "nbformat_minor": 0,
  "metadata": {
    "colab": {
      "provenance": []
    },
    "kernelspec": {
      "name": "python3",
      "display_name": "Python 3"
    },
    "gpuClass": "premium"
  },
  "cells": [
    {
      "cell_type": "markdown",
      "source": [
        "##Goal\n",
        "Goal is to train neural network to rate comments autonomously "
      ],
      "metadata": {
        "id": "z3HTeubLSAl5"
      }
    },
    {
      "cell_type": "markdown",
      "source": [
        "This is **Multilabel text classification** problem, we will be using pretrained DistilBERT from Hugingface to manage this task. In this notebook we will be using 2 models, one with Tanh antivation layer, second with Sigmoid. "
      ],
      "metadata": {
        "id": "ug0pvnzGTG7H"
      }
    },
    {
      "cell_type": "code",
      "metadata": {
        "id": "XTkCDy7NPuOx"
      },
      "source": [
        "! pip install transformers==3.0.2;"
      ],
      "execution_count": null,
      "outputs": []
    },
    {
      "cell_type": "code",
      "metadata": {
        "id": "zHxRRzqpBf76"
      },
      "source": [
        "import warnings\n",
        "import re\n",
        "import numpy as np\n",
        "import pandas as pd\n",
        "from tqdm import tqdm\n",
        "import seaborn as sns\n",
        "import sklearn \n",
        "from sklearn.model_selection import train_test_split\n",
        "from sklearn.metrics import multilabel_confusion_matrix\n",
        "import transformers\n",
        "import torch\n",
        "import matplotlib.pyplot as plt\n",
        "from torch.utils.data import Dataset, DataLoader, RandomSampler, SequentialSampler\n",
        "from transformers import DistilBertTokenizer, DistilBertModel\n",
        "import logging\n",
        "logging.basicConfig(level=logging.ERROR)\n",
        "warnings.simplefilter('ignore')"
      ],
      "execution_count": null,
      "outputs": []
    },
    {
      "cell_type": "markdown",
      "source": [
        "Due to high resource utilization we will be using GPU."
      ],
      "metadata": {
        "id": "lgg1EoCpU_BK"
      }
    },
    {
      "cell_type": "code",
      "metadata": {
        "id": "B7N-SkxWC7zT"
      },
      "source": [
        "device = 'cuda' if torch.cuda.is_available() else 'cpu'\n",
        "device"
      ],
      "execution_count": null,
      "outputs": []
    },
    {
      "cell_type": "markdown",
      "source": [
        "###Importing data:"
      ],
      "metadata": {
        "id": "2emLK38nTr8k"
      }
    },
    {
      "cell_type": "code",
      "source": [
        "from google.colab import drive\n",
        "drive.mount('/content/drive', force_remount=True)\n",
        "path = 'drive/MyDrive/TOXIC_COMMENTS'"
      ],
      "metadata": {
        "id": "C5IrVxuHb6Mx"
      },
      "execution_count": null,
      "outputs": []
    },
    {
      "cell_type": "markdown",
      "source": [
        "#EDA"
      ],
      "metadata": {
        "id": "ct7RIDJbUlAI"
      }
    },
    {
      "cell_type": "code",
      "source": [
        "train = f\"{path}/train.csv\"\n",
        "\n",
        "text = 'comment_text'\n",
        "target = ['toxic','severe_toxic','obscene','threat','insult', 'identity_hate']\n",
        "df = pd.read_csv(train)"
      ],
      "metadata": {
        "id": "SbIYqBXoaZGB"
      },
      "execution_count": null,
      "outputs": []
    },
    {
      "cell_type": "code",
      "metadata": {
        "id": "9w86kD1qC_kb",
        "colab": {
          "base_uri": "https://localhost:8080/",
          "height": 206
        },
        "outputId": "d765212b-0cc0-4d9f-f0f0-836dac7f08f8"
      },
      "source": [
        "df.head()"
      ],
      "execution_count": null,
      "outputs": [
        {
          "output_type": "execute_result",
          "data": {
            "text/plain": [
              "                 id                                       comment_text  toxic  \\\n",
              "0  0000997932d777bf  Explanation\\nWhy the edits made under my usern...      0   \n",
              "1  000103f0d9cfb60f  D'aww! He matches this background colour I'm s...      0   \n",
              "2  000113f07ec002fd  Hey man, I'm really not trying to edit war. It...      0   \n",
              "3  0001b41b1c6bb37e  \"\\nMore\\nI can't make any real suggestions on ...      0   \n",
              "4  0001d958c54c6e35  You, sir, are my hero. Any chance you remember...      0   \n",
              "\n",
              "   severe_toxic  obscene  threat  insult  identity_hate  \n",
              "0             0        0       0       0              0  \n",
              "1             0        0       0       0              0  \n",
              "2             0        0       0       0              0  \n",
              "3             0        0       0       0              0  \n",
              "4             0        0       0       0              0  "
            ],
            "text/html": [
              "\n",
              "  <div id=\"df-5642464b-7f71-436a-ba6d-3e2c7047175e\">\n",
              "    <div class=\"colab-df-container\">\n",
              "      <div>\n",
              "<style scoped>\n",
              "    .dataframe tbody tr th:only-of-type {\n",
              "        vertical-align: middle;\n",
              "    }\n",
              "\n",
              "    .dataframe tbody tr th {\n",
              "        vertical-align: top;\n",
              "    }\n",
              "\n",
              "    .dataframe thead th {\n",
              "        text-align: right;\n",
              "    }\n",
              "</style>\n",
              "<table border=\"1\" class=\"dataframe\">\n",
              "  <thead>\n",
              "    <tr style=\"text-align: right;\">\n",
              "      <th></th>\n",
              "      <th>id</th>\n",
              "      <th>comment_text</th>\n",
              "      <th>toxic</th>\n",
              "      <th>severe_toxic</th>\n",
              "      <th>obscene</th>\n",
              "      <th>threat</th>\n",
              "      <th>insult</th>\n",
              "      <th>identity_hate</th>\n",
              "    </tr>\n",
              "  </thead>\n",
              "  <tbody>\n",
              "    <tr>\n",
              "      <th>0</th>\n",
              "      <td>0000997932d777bf</td>\n",
              "      <td>Explanation\\nWhy the edits made under my usern...</td>\n",
              "      <td>0</td>\n",
              "      <td>0</td>\n",
              "      <td>0</td>\n",
              "      <td>0</td>\n",
              "      <td>0</td>\n",
              "      <td>0</td>\n",
              "    </tr>\n",
              "    <tr>\n",
              "      <th>1</th>\n",
              "      <td>000103f0d9cfb60f</td>\n",
              "      <td>D'aww! He matches this background colour I'm s...</td>\n",
              "      <td>0</td>\n",
              "      <td>0</td>\n",
              "      <td>0</td>\n",
              "      <td>0</td>\n",
              "      <td>0</td>\n",
              "      <td>0</td>\n",
              "    </tr>\n",
              "    <tr>\n",
              "      <th>2</th>\n",
              "      <td>000113f07ec002fd</td>\n",
              "      <td>Hey man, I'm really not trying to edit war. It...</td>\n",
              "      <td>0</td>\n",
              "      <td>0</td>\n",
              "      <td>0</td>\n",
              "      <td>0</td>\n",
              "      <td>0</td>\n",
              "      <td>0</td>\n",
              "    </tr>\n",
              "    <tr>\n",
              "      <th>3</th>\n",
              "      <td>0001b41b1c6bb37e</td>\n",
              "      <td>\"\\nMore\\nI can't make any real suggestions on ...</td>\n",
              "      <td>0</td>\n",
              "      <td>0</td>\n",
              "      <td>0</td>\n",
              "      <td>0</td>\n",
              "      <td>0</td>\n",
              "      <td>0</td>\n",
              "    </tr>\n",
              "    <tr>\n",
              "      <th>4</th>\n",
              "      <td>0001d958c54c6e35</td>\n",
              "      <td>You, sir, are my hero. Any chance you remember...</td>\n",
              "      <td>0</td>\n",
              "      <td>0</td>\n",
              "      <td>0</td>\n",
              "      <td>0</td>\n",
              "      <td>0</td>\n",
              "      <td>0</td>\n",
              "    </tr>\n",
              "  </tbody>\n",
              "</table>\n",
              "</div>\n",
              "      <button class=\"colab-df-convert\" onclick=\"convertToInteractive('df-5642464b-7f71-436a-ba6d-3e2c7047175e')\"\n",
              "              title=\"Convert this dataframe to an interactive table.\"\n",
              "              style=\"display:none;\">\n",
              "        \n",
              "  <svg xmlns=\"http://www.w3.org/2000/svg\" height=\"24px\"viewBox=\"0 0 24 24\"\n",
              "       width=\"24px\">\n",
              "    <path d=\"M0 0h24v24H0V0z\" fill=\"none\"/>\n",
              "    <path d=\"M18.56 5.44l.94 2.06.94-2.06 2.06-.94-2.06-.94-.94-2.06-.94 2.06-2.06.94zm-11 1L8.5 8.5l.94-2.06 2.06-.94-2.06-.94L8.5 2.5l-.94 2.06-2.06.94zm10 10l.94 2.06.94-2.06 2.06-.94-2.06-.94-.94-2.06-.94 2.06-2.06.94z\"/><path d=\"M17.41 7.96l-1.37-1.37c-.4-.4-.92-.59-1.43-.59-.52 0-1.04.2-1.43.59L10.3 9.45l-7.72 7.72c-.78.78-.78 2.05 0 2.83L4 21.41c.39.39.9.59 1.41.59.51 0 1.02-.2 1.41-.59l7.78-7.78 2.81-2.81c.8-.78.8-2.07 0-2.86zM5.41 20L4 18.59l7.72-7.72 1.47 1.35L5.41 20z\"/>\n",
              "  </svg>\n",
              "      </button>\n",
              "      \n",
              "  <style>\n",
              "    .colab-df-container {\n",
              "      display:flex;\n",
              "      flex-wrap:wrap;\n",
              "      gap: 12px;\n",
              "    }\n",
              "\n",
              "    .colab-df-convert {\n",
              "      background-color: #E8F0FE;\n",
              "      border: none;\n",
              "      border-radius: 50%;\n",
              "      cursor: pointer;\n",
              "      display: none;\n",
              "      fill: #1967D2;\n",
              "      height: 32px;\n",
              "      padding: 0 0 0 0;\n",
              "      width: 32px;\n",
              "    }\n",
              "\n",
              "    .colab-df-convert:hover {\n",
              "      background-color: #E2EBFA;\n",
              "      box-shadow: 0px 1px 2px rgba(60, 64, 67, 0.3), 0px 1px 3px 1px rgba(60, 64, 67, 0.15);\n",
              "      fill: #174EA6;\n",
              "    }\n",
              "\n",
              "    [theme=dark] .colab-df-convert {\n",
              "      background-color: #3B4455;\n",
              "      fill: #D2E3FC;\n",
              "    }\n",
              "\n",
              "    [theme=dark] .colab-df-convert:hover {\n",
              "      background-color: #434B5C;\n",
              "      box-shadow: 0px 1px 3px 1px rgba(0, 0, 0, 0.15);\n",
              "      filter: drop-shadow(0px 1px 2px rgba(0, 0, 0, 0.3));\n",
              "      fill: #FFFFFF;\n",
              "    }\n",
              "  </style>\n",
              "\n",
              "      <script>\n",
              "        const buttonEl =\n",
              "          document.querySelector('#df-5642464b-7f71-436a-ba6d-3e2c7047175e button.colab-df-convert');\n",
              "        buttonEl.style.display =\n",
              "          google.colab.kernel.accessAllowed ? 'block' : 'none';\n",
              "\n",
              "        async function convertToInteractive(key) {\n",
              "          const element = document.querySelector('#df-5642464b-7f71-436a-ba6d-3e2c7047175e');\n",
              "          const dataTable =\n",
              "            await google.colab.kernel.invokeFunction('convertToInteractive',\n",
              "                                                     [key], {});\n",
              "          if (!dataTable) return;\n",
              "\n",
              "          const docLinkHtml = 'Like what you see? Visit the ' +\n",
              "            '<a target=\"_blank\" href=https://colab.research.google.com/notebooks/data_table.ipynb>data table notebook</a>'\n",
              "            + ' to learn more about interactive tables.';\n",
              "          element.innerHTML = '';\n",
              "          dataTable['output_type'] = 'display_data';\n",
              "          await google.colab.output.renderOutput(dataTable, element);\n",
              "          const docLink = document.createElement('div');\n",
              "          docLink.innerHTML = docLinkHtml;\n",
              "          element.appendChild(docLink);\n",
              "        }\n",
              "      </script>\n",
              "    </div>\n",
              "  </div>\n",
              "  "
            ]
          },
          "metadata": {},
          "execution_count": 60
        }
      ]
    },
    {
      "cell_type": "markdown",
      "source": [
        "Shape of data:"
      ],
      "metadata": {
        "id": "z8B7Mm0fUqPs"
      }
    },
    {
      "cell_type": "code",
      "source": [
        "print(f\"Dataset: train\\nrows: {df.shape[0]:>9}\\ncolumns: {df.shape[1]}\")"
      ],
      "metadata": {
        "colab": {
          "base_uri": "https://localhost:8080/"
        },
        "id": "hd83Oha0alDr",
        "outputId": "9c612a05-9e53-4d7e-d845-95481b36851f"
      },
      "execution_count": null,
      "outputs": [
        {
          "output_type": "stream",
          "name": "stdout",
          "text": [
            "Dataset: train\n",
            "rows:    159571\n",
            "columns: 8\n"
          ]
        }
      ]
    },
    {
      "cell_type": "markdown",
      "source": [
        "###Missing values:"
      ],
      "metadata": {
        "id": "PF8hoA2XUdlb"
      }
    },
    {
      "cell_type": "code",
      "source": [
        "print(\"Missing values in Train dataset\")\n",
        "print(df.isnull().sum().to_string())"
      ],
      "metadata": {
        "colab": {
          "base_uri": "https://localhost:8080/"
        },
        "id": "cyA2E7IhazpF",
        "outputId": "4b417b35-7ff1-4f87-ff49-8efa5654faf5"
      },
      "execution_count": null,
      "outputs": [
        {
          "output_type": "stream",
          "name": "stdout",
          "text": [
            "Missing values in Train dataset\n",
            "id               0\n",
            "comment_text     0\n",
            "toxic            0\n",
            "severe_toxic     0\n",
            "obscene          0\n",
            "threat           0\n",
            "insult           0\n",
            "identity_hate    0\n"
          ]
        }
      ]
    },
    {
      "cell_type": "markdown",
      "source": [
        "There is no missing data in our dataset."
      ],
      "metadata": {
        "id": "SgBD5NefU2Be"
      }
    },
    {
      "cell_type": "code",
      "source": [
        "plt.figure(figsize=(10,6))\n",
        "plt.pie([sum(df.sum(axis=1)==0),sum(df.sum(axis=1)!=0)], labels=['Non-toxic','Toxic'], autopct='%.2f%%') \n",
        "plt.title(\"Non-toxic and toxic comment in dataset\");"
      ],
      "metadata": {
        "colab": {
          "base_uri": "https://localhost:8080/",
          "height": 373
        },
        "id": "tidc1WkelJg1",
        "outputId": "f97f45ba-0fc8-4b9c-d8ee-859ce34f45c1"
      },
      "execution_count": null,
      "outputs": [
        {
          "output_type": "display_data",
          "data": {
            "text/plain": [
              "<Figure size 720x432 with 1 Axes>"
            ],
            "image/png": "[encoded data removed]"
          },
          "metadata": {}
        }
      ]
    },
    {
      "cell_type": "markdown",
      "source": [
        "Kind of toxicity in dataset:"
      ],
      "metadata": {
        "id": "UqnjNGn6U02u"
      }
    },
    {
      "cell_type": "code",
      "source": [
        "plt.figure(figsize=(12,6))\n",
        "sns.barplot(data=df).set(title='Comments by kind of toxicity')\n",
        "plt.xlabel('Kind of toxicity') \n",
        "plt.ylabel('Share of all comments');"
      ],
      "metadata": {
        "colab": {
          "base_uri": "https://localhost:8080/",
          "height": 405
        },
        "id": "enXv3BS9ez0C",
        "outputId": "049e8c34-c4a6-4af3-b559-78da4a233257"
      },
      "execution_count": null,
      "outputs": [
        {
          "output_type": "display_data",
          "data": {
            "text/plain": [
              "<Figure size 864x432 with 1 Axes>"
            ],
            "image/png": "[encoded data removed]"
          },
          "metadata": {
            "needs_background": "light"
          }
        }
      ]
    },
    {
      "cell_type": "markdown",
      "source": [
        "Corelation heatmap:"
      ],
      "metadata": {
        "id": "F1ZhoYcWgW4X"
      }
    },
    {
      "cell_type": "code",
      "source": [
        "corr = df[target].corr()\n",
        "plt.figure(figsize=(8,6))\n",
        "sns.heatmap(corr, annot=True, mask=np.triu(np.ones_like(corr, dtype=bool)), vmax=1, vmin=0)\n",
        "plt.title('Corelation heatmap of toxicity kinds');"
      ],
      "metadata": {
        "colab": {
          "base_uri": "https://localhost:8080/",
          "height": 391
        },
        "id": "Vdn1k-vYtpaB",
        "outputId": "420f23a8-5cb1-4c07-a5ff-08841d789412"
      },
      "execution_count": null,
      "outputs": [
        {
          "output_type": "display_data",
          "data": {
            "text/plain": [
              "<Figure size 576x432 with 2 Axes>"
            ],
            "image/png": "[encoded data removed]"
          },
          "metadata": {
            "needs_background": "light"
          }
        }
      ]
    },
    {
      "cell_type": "markdown",
      "source": [
        "As we can see insult cmomments are highly correlated with toxic(0.65) and obscene(0.74). Obscene comments are also highly correlated with toxic (0.68). "
      ],
      "metadata": {
        "id": "PHwT_JNggaYt"
      }
    },
    {
      "cell_type": "markdown",
      "source": [
        "Let's check lenth of comments:"
      ],
      "metadata": {
        "id": "MyMb_MKUheZv"
      }
    },
    {
      "cell_type": "code",
      "source": [
        "sns.displot(df.comment_text.apply(lambda x: len(x)))\n",
        "plt.xlabel('Number of characters') \n",
        "plt.title('Number of characters in comments');"
      ],
      "metadata": {
        "colab": {
          "base_uri": "https://localhost:8080/",
          "height": 385
        },
        "id": "Jc7R0ETKtr7p",
        "outputId": "37421178-0e27-4018-98d5-f882587f6148"
      },
      "execution_count": null,
      "outputs": [
        {
          "output_type": "display_data",
          "data": {
            "text/plain": [
              "<Figure size 360x360 with 1 Axes>"
            ],
            "image/png": "[encoded data removed]"
          },
          "metadata": {
            "needs_background": "light"
          }
        }
      ]
    },
    {
      "cell_type": "code",
      "source": [
        "sns.displot(df.comment_text.apply(lambda x: len(x.split(\" \"))))\n",
        "plt.xlabel('Number of words') \n",
        "plt.title('Number of words in comments');"
      ],
      "metadata": {
        "colab": {
          "base_uri": "https://localhost:8080/",
          "height": 385
        },
        "id": "O0ymnCAP45r6",
        "outputId": "f73daedc-5c70-42a0-d1b4-acbef26988ee"
      },
      "execution_count": null,
      "outputs": [
        {
          "output_type": "display_data",
          "data": {
            "text/plain": [
              "<Figure size 360x360 with 1 Axes>"
            ],
            "image/png": "[encoded data removed]"
          },
          "metadata": {
            "needs_background": "light"
          }
        }
      ]
    },
    {
      "cell_type": "markdown",
      "source": [
        "Now let's get rid of unusual characters in comments."
      ],
      "metadata": {
        "id": "NJeC-_VGhrkp"
      }
    },
    {
      "cell_type": "code",
      "source": [
        "def clean_text(txt):\n",
        "    return re.sub(\"[^A-Za-z0-9.,;:!?]+\", ' ', str(txt))"
      ],
      "metadata": {
        "id": "sp6SdyaMt4Um"
      },
      "execution_count": null,
      "outputs": []
    },
    {
      "cell_type": "code",
      "source": [
        "sns.displot(\n",
        "    df.comment_text.apply(clean_text).apply(lambda x: len(x.split(\" \"))))\n",
        "plt.xlabel('Number of words') \n",
        "plt.title('Number of words in comments after cleaning');"
      ],
      "metadata": {
        "colab": {
          "base_uri": "https://localhost:8080/",
          "height": 385
        },
        "id": "HhQSxWbI7U-T",
        "outputId": "e05270fd-67e3-4a3f-f262-c5af7c010a1d"
      },
      "execution_count": null,
      "outputs": [
        {
          "output_type": "display_data",
          "data": {
            "text/plain": [
              "<Figure size 360x360 with 1 Axes>"
            ],
            "image/png": "[encoded data removed]"
          },
          "metadata": {
            "needs_background": "light"
          }
        }
      ]
    },
    {
      "cell_type": "code",
      "source": [
        "df.comment_text.apply(clean_text).apply(lambda x: len(x.split(\" \"))).describe(percentiles=[0.86])\n"
      ],
      "metadata": {
        "colab": {
          "base_uri": "https://localhost:8080/"
        },
        "id": "nDvOmHn07xdp",
        "outputId": "3f6701b6-1833-47cf-e279-db71cc7053e7"
      },
      "execution_count": null,
      "outputs": [
        {
          "output_type": "execute_result",
          "data": {
            "text/plain": [
              "count    159571.000000\n",
              "mean         69.528160\n",
              "std         102.037257\n",
              "min           1.000000\n",
              "50%          37.000000\n",
              "86%         123.000000\n",
              "max        1403.000000\n",
              "Name: comment_text, dtype: float64"
            ]
          },
          "metadata": {},
          "execution_count": 72
        }
      ]
    },
    {
      "cell_type": "markdown",
      "source": [
        "As we can see over 86% of comments has under 128 words due to constrained resources we will limit lenth of comments to 128."
      ],
      "metadata": {
        "id": "jqFvLFyoh9lz"
      }
    },
    {
      "cell_type": "markdown",
      "source": [
        "We drop id column:"
      ],
      "metadata": {
        "id": "ayb6wL8eiTjA"
      }
    },
    {
      "cell_type": "code",
      "metadata": {
        "id": "goM0DYRyvDP_"
      },
      "source": [
        "df.drop(['id'], inplace=True, axis=1)"
      ],
      "execution_count": null,
      "outputs": []
    },
    {
      "cell_type": "markdown",
      "source": [
        "And make one-hot encode from our dataframe."
      ],
      "metadata": {
        "id": "RC-M7kI_iajF"
      }
    },
    {
      "cell_type": "code",
      "metadata": {
        "id": "Svs-AUlrvaMA"
      },
      "source": [
        "df_with_vector = pd.DataFrame()\n",
        "df_with_vector['text'] = df[text]\n",
        "df_with_vector['vector'] = df.iloc[:, 1:].values.tolist()"
      ],
      "execution_count": null,
      "outputs": []
    },
    {
      "cell_type": "code",
      "metadata": {
        "id": "Lfj9oQc1v6Dc",
        "colab": {
          "base_uri": "https://localhost:8080/",
          "height": 206
        },
        "outputId": "509f1b9d-ac4a-439d-f490-aa99b2534982"
      },
      "source": [
        "df_with_vector.head()"
      ],
      "execution_count": null,
      "outputs": [
        {
          "output_type": "execute_result",
          "data": {
            "text/plain": [
              "                                                text              vector\n",
              "0  Explanation\\nWhy the edits made under my usern...  [0, 0, 0, 0, 0, 0]\n",
              "1  D'aww! He matches this background colour I'm s...  [0, 0, 0, 0, 0, 0]\n",
              "2  Hey man, I'm really not trying to edit war. It...  [0, 0, 0, 0, 0, 0]\n",
              "3  \"\\nMore\\nI can't make any real suggestions on ...  [0, 0, 0, 0, 0, 0]\n",
              "4  You, sir, are my hero. Any chance you remember...  [0, 0, 0, 0, 0, 0]"
            ],
            "text/html": [
              "\n",
              "  <div id=\"df-4d401fab-e92a-4484-9480-85b1f15da3b3\">\n",
              "    <div class=\"colab-df-container\">\n",
              "      <div>\n",
              "<style scoped>\n",
              "    .dataframe tbody tr th:only-of-type {\n",
              "        vertical-align: middle;\n",
              "    }\n",
              "\n",
              "    .dataframe tbody tr th {\n",
              "        vertical-align: top;\n",
              "    }\n",
              "\n",
              "    .dataframe thead th {\n",
              "        text-align: right;\n",
              "    }\n",
              "</style>\n",
              "<table border=\"1\" class=\"dataframe\">\n",
              "  <thead>\n",
              "    <tr style=\"text-align: right;\">\n",
              "      <th></th>\n",
              "      <th>text</th>\n",
              "      <th>vector</th>\n",
              "    </tr>\n",
              "  </thead>\n",
              "  <tbody>\n",
              "    <tr>\n",
              "      <th>0</th>\n",
              "      <td>Explanation\\nWhy the edits made under my usern...</td>\n",
              "      <td>[0, 0, 0, 0, 0, 0]</td>\n",
              "    </tr>\n",
              "    <tr>\n",
              "      <th>1</th>\n",
              "      <td>D'aww! He matches this background colour I'm s...</td>\n",
              "      <td>[0, 0, 0, 0, 0, 0]</td>\n",
              "    </tr>\n",
              "    <tr>\n",
              "      <th>2</th>\n",
              "      <td>Hey man, I'm really not trying to edit war. It...</td>\n",
              "      <td>[0, 0, 0, 0, 0, 0]</td>\n",
              "    </tr>\n",
              "    <tr>\n",
              "      <th>3</th>\n",
              "      <td>\"\\nMore\\nI can't make any real suggestions on ...</td>\n",
              "      <td>[0, 0, 0, 0, 0, 0]</td>\n",
              "    </tr>\n",
              "    <tr>\n",
              "      <th>4</th>\n",
              "      <td>You, sir, are my hero. Any chance you remember...</td>\n",
              "      <td>[0, 0, 0, 0, 0, 0]</td>\n",
              "    </tr>\n",
              "  </tbody>\n",
              "</table>\n",
              "</div>\n",
              "      <button class=\"colab-df-convert\" onclick=\"convertToInteractive('df-4d401fab-e92a-4484-9480-85b1f15da3b3')\"\n",
              "              title=\"Convert this dataframe to an interactive table.\"\n",
              "              style=\"display:none;\">\n",
              "        \n",
              "  <svg xmlns=\"http://www.w3.org/2000/svg\" height=\"24px\"viewBox=\"0 0 24 24\"\n",
              "       width=\"24px\">\n",
              "    <path d=\"M0 0h24v24H0V0z\" fill=\"none\"/>\n",
              "    <path d=\"M18.56 5.44l.94 2.06.94-2.06 2.06-.94-2.06-.94-.94-2.06-.94 2.06-2.06.94zm-11 1L8.5 8.5l.94-2.06 2.06-.94-2.06-.94L8.5 2.5l-.94 2.06-2.06.94zm10 10l.94 2.06.94-2.06 2.06-.94-2.06-.94-.94-2.06-.94 2.06-2.06.94z\"/><path d=\"M17.41 7.96l-1.37-1.37c-.4-.4-.92-.59-1.43-.59-.52 0-1.04.2-1.43.59L10.3 9.45l-7.72 7.72c-.78.78-.78 2.05 0 2.83L4 21.41c.39.39.9.59 1.41.59.51 0 1.02-.2 1.41-.59l7.78-7.78 2.81-2.81c.8-.78.8-2.07 0-2.86zM5.41 20L4 18.59l7.72-7.72 1.47 1.35L5.41 20z\"/>\n",
              "  </svg>\n",
              "      </button>\n",
              "      \n",
              "  <style>\n",
              "    .colab-df-container {\n",
              "      display:flex;\n",
              "      flex-wrap:wrap;\n",
              "      gap: 12px;\n",
              "    }\n",
              "\n",
              "    .colab-df-convert {\n",
              "      background-color: #E8F0FE;\n",
              "      border: none;\n",
              "      border-radius: 50%;\n",
              "      cursor: pointer;\n",
              "      display: none;\n",
              "      fill: #1967D2;\n",
              "      height: 32px;\n",
              "      padding: 0 0 0 0;\n",
              "      width: 32px;\n",
              "    }\n",
              "\n",
              "    .colab-df-convert:hover {\n",
              "      background-color: #E2EBFA;\n",
              "      box-shadow: 0px 1px 2px rgba(60, 64, 67, 0.3), 0px 1px 3px 1px rgba(60, 64, 67, 0.15);\n",
              "      fill: #174EA6;\n",
              "    }\n",
              "\n",
              "    [theme=dark] .colab-df-convert {\n",
              "      background-color: #3B4455;\n",
              "      fill: #D2E3FC;\n",
              "    }\n",
              "\n",
              "    [theme=dark] .colab-df-convert:hover {\n",
              "      background-color: #434B5C;\n",
              "      box-shadow: 0px 1px 3px 1px rgba(0, 0, 0, 0.15);\n",
              "      filter: drop-shadow(0px 1px 2px rgba(0, 0, 0, 0.3));\n",
              "      fill: #FFFFFF;\n",
              "    }\n",
              "  </style>\n",
              "\n",
              "      <script>\n",
              "        const buttonEl =\n",
              "          document.querySelector('#df-4d401fab-e92a-4484-9480-85b1f15da3b3 button.colab-df-convert');\n",
              "        buttonEl.style.display =\n",
              "          google.colab.kernel.accessAllowed ? 'block' : 'none';\n",
              "\n",
              "        async function convertToInteractive(key) {\n",
              "          const element = document.querySelector('#df-4d401fab-e92a-4484-9480-85b1f15da3b3');\n",
              "          const dataTable =\n",
              "            await google.colab.kernel.invokeFunction('convertToInteractive',\n",
              "                                                     [key], {});\n",
              "          if (!dataTable) return;\n",
              "\n",
              "          const docLinkHtml = 'Like what you see? Visit the ' +\n",
              "            '<a target=\"_blank\" href=https://colab.research.google.com/notebooks/data_table.ipynb>data table notebook</a>'\n",
              "            + ' to learn more about interactive tables.';\n",
              "          element.innerHTML = '';\n",
              "          dataTable['output_type'] = 'display_data';\n",
              "          await google.colab.output.renderOutput(dataTable, element);\n",
              "          const docLink = document.createElement('div');\n",
              "          docLink.innerHTML = docLinkHtml;\n",
              "          element.appendChild(docLink);\n",
              "        }\n",
              "      </script>\n",
              "    </div>\n",
              "  </div>\n",
              "  "
            ]
          },
          "metadata": {},
          "execution_count": 75
        }
      ]
    },
    {
      "cell_type": "markdown",
      "source": [
        "Here we choice `batch_size`, number of `epochs` and `learning_rate`. Due to hardware constrains we will chose `max_len` as 128. We could also enhance our model by making `max_len` variable and changing it from batch to batch. We could also go higher with `epochs` to get little bit better results."
      ],
      "metadata": {
        "id": "sjXfYnZNjLAQ"
      }
    },
    {
      "cell_type": "code",
      "metadata": {
        "id": "VpF4ZAaxC_OJ"
      },
      "source": [
        "max_len = 128\n",
        "batch_size = 8\n",
        "epochs = 2\n",
        "learning_rate = 1e-05\n",
        "tokenizer = DistilBertTokenizer.from_pretrained('distilbert-base-uncased', truncation=True, do_lower_case=True)"
      ],
      "execution_count": null,
      "outputs": []
    },
    {
      "cell_type": "markdown",
      "source": [
        "Class for out dataset include `special_tokens`, `max_len` and `truncation`.\n",
        "\n"
      ],
      "metadata": {
        "id": "YhZCnKymlDSP"
      }
    },
    {
      "cell_type": "code",
      "metadata": {
        "id": "fC7zA4nYDGX3"
      },
      "source": [
        "class MultiLabelDataset(Dataset):\n",
        "\n",
        "    def __init__(self, dataframe, tokenizer, max_len):\n",
        "        self.tokenizer = tokenizer\n",
        "        self.data = dataframe\n",
        "        self.text = dataframe.text\n",
        "        self.targets = self.data.vector\n",
        "        self.max_len = max_len\n",
        "\n",
        "    def __len__(self):\n",
        "        return len(self.text)\n",
        "\n",
        "    def __getitem__(self, index):\n",
        "        text = str(self.text[index])\n",
        "        text = \" \".join(text.split())\n",
        "\n",
        "        inputs = self.tokenizer.encode_plus(\n",
        "            text,\n",
        "            None,\n",
        "            add_special_tokens=True,\n",
        "            max_length=self.max_len,\n",
        "            pad_to_max_length=True,\n",
        "            return_token_type_ids=True,\n",
        "            truncation=True\n",
        "        )\n",
        "        ids = inputs['input_ids']\n",
        "        mask = inputs['attention_mask']\n",
        "        token_type_ids = inputs[\"token_type_ids\"]\n",
        "\n",
        "\n",
        "        return {\n",
        "            'ids': torch.tensor(ids, dtype=torch.long),\n",
        "            'mask': torch.tensor(mask, dtype=torch.long),\n",
        "            'token_type_ids': torch.tensor(token_type_ids, dtype=torch.long),\n",
        "            'targets': torch.tensor(self.targets[index], dtype=torch.float)\n",
        "        }"
      ],
      "execution_count": null,
      "outputs": []
    },
    {
      "cell_type": "markdown",
      "source": [
        "We split dataset in 2 groups: 80% training examples and 20% of validation."
      ],
      "metadata": {
        "id": "MTNj5rwZkpJP"
      }
    },
    {
      "cell_type": "code",
      "metadata": {
        "id": "qOZWsLfGDOBG",
        "colab": {
          "base_uri": "https://localhost:8080/"
        },
        "outputId": "1fe47434-24cf-4d7c-daf6-23ba46753261"
      },
      "source": [
        "train_size = 0.8\n",
        "train_data, test_data = train_test_split(df_with_vector, \n",
        "                                         train_size=train_size, \n",
        "                                         random_state=42)\n",
        "train_data.reset_index(drop=True, inplace=True)\n",
        "test_data.reset_index(drop=True, inplace=True)\n",
        "print(\"Dataset: {}\".format(df_with_vector.shape))\n",
        "print(\"Train Dataset: {}\".format(train_data.shape))\n",
        "print(\"Test Dataset: {}\".format(test_data.shape))\n",
        "\n",
        "training_set = MultiLabelDataset(train_data, tokenizer, max_len)\n",
        "testing_set = MultiLabelDataset(test_data, tokenizer, max_len)"
      ],
      "execution_count": null,
      "outputs": [
        {
          "output_type": "stream",
          "name": "stdout",
          "text": [
            "Dataset: (159571, 2)\n",
            "Train Dataset: (127656, 2)\n",
            "Test Dataset: (31915, 2)\n"
          ]
        }
      ]
    },
    {
      "cell_type": "markdown",
      "source": [
        "We make dataloaders from both datasets."
      ],
      "metadata": {
        "id": "7HIZ6JIAlvFQ"
      }
    },
    {
      "cell_type": "code",
      "metadata": {
        "id": "StbPlIyKDP9E"
      },
      "source": [
        "params = {'batch_size': batch_size,\n",
        "                'shuffle': True,\n",
        "                'num_workers': 0\n",
        "                }\n",
        "\n",
        "training_loader = DataLoader(training_set, **params)\n",
        "testing_loader = DataLoader(testing_set, **params)"
      ],
      "execution_count": null,
      "outputs": []
    },
    {
      "cell_type": "markdown",
      "source": [
        "We will be using DestilBERT with extra Linear, Tanh, Dropout and finall Linear layer for classification. Second model will be having Sigmoid layer insted of Tanh."
      ],
      "metadata": {
        "id": "wssNcni7l6_1"
      }
    },
    {
      "cell_type": "code",
      "source": [
        "dropout = 0.1\n",
        "out_neurons = 6\n",
        "\n",
        "class DistilBERTClass_Tanh(torch.nn.Module):\n",
        "    def __init__(self):\n",
        "        super(DistilBERTClass_Tanh, self).__init__()\n",
        "        self.l1 = DistilBertModel.from_pretrained(\"distilbert-base-uncased\")\n",
        "        dim = self.l1._modules['embeddings']\\\n",
        "        ._modules['position_embeddings'].embedding_dim\n",
        "        self.pre_classifier = torch.nn.Linear(dim, dim)\n",
        "        self.dropout = torch.nn.Dropout(dropout)\n",
        "        self.classifier = torch.nn.Linear(dim, out_neurons)\n",
        "\n",
        "    def forward(self, input_ids, attention_mask, token_type_ids):\n",
        "        output_bert = self.l1(input_ids=input_ids, \n",
        "                              attention_mask=attention_mask)\n",
        "        hidden_state = output_bert[0]\n",
        "        out = hidden_state[:, 0]\n",
        "        out = self.pre_classifier(out)\n",
        "        out = torch.nn.Tanh()(out)\n",
        "        out = self.dropout(out)\n",
        "        output = self.classifier(out)\n",
        "        return output\n",
        "\n",
        "model_tanh = DistilBERTClass_Tanh()\n",
        "model_tanh.to(device)"
      ],
      "metadata": {
        "id": "LRU5vIPgqZBl",
        "colab": {
          "base_uri": "https://localhost:8080/"
        },
        "outputId": "c787555b-c7dc-4905-a9b5-571682f5e38d"
      },
      "execution_count": null,
      "outputs": [
        {
          "output_type": "execute_result",
          "data": {
            "text/plain": [
              "DistilBERTClass_Tanh(\n",
              "  (l1): DistilBertModel(\n",
              "    (embeddings): Embeddings(\n",
              "      (word_embeddings): Embedding(30522, 768, padding_idx=0)\n",
              "      (position_embeddings): Embedding(512, 768)\n",
              "      (LayerNorm): LayerNorm((768,), eps=1e-12, elementwise_affine=True)\n",
              "      (dropout): Dropout(p=0.1, inplace=False)\n",
              "    )\n",
              "    (transformer): Transformer(\n",
              "      (layer): ModuleList(\n",
              "        (0): TransformerBlock(\n",
              "          (attention): MultiHeadSelfAttention(\n",
              "            (dropout): Dropout(p=0.1, inplace=False)\n",
              "            (q_lin): Linear(in_features=768, out_features=768, bias=True)\n",
              "            (k_lin): Linear(in_features=768, out_features=768, bias=True)\n",
              "            (v_lin): Linear(in_features=768, out_features=768, bias=True)\n",
              "            (out_lin): Linear(in_features=768, out_features=768, bias=True)\n",
              "          )\n",
              "          (sa_layer_norm): LayerNorm((768,), eps=1e-12, elementwise_affine=True)\n",
              "          (ffn): FFN(\n",
              "            (dropout): Dropout(p=0.1, inplace=False)\n",
              "            (lin1): Linear(in_features=768, out_features=3072, bias=True)\n",
              "            (lin2): Linear(in_features=3072, out_features=768, bias=True)\n",
              "          )\n",
              "          (output_layer_norm): LayerNorm((768,), eps=1e-12, elementwise_affine=True)\n",
              "        )\n",
              "        (1): TransformerBlock(\n",
              "          (attention): MultiHeadSelfAttention(\n",
              "            (dropout): Dropout(p=0.1, inplace=False)\n",
              "            (q_lin): Linear(in_features=768, out_features=768, bias=True)\n",
              "            (k_lin): Linear(in_features=768, out_features=768, bias=True)\n",
              "            (v_lin): Linear(in_features=768, out_features=768, bias=True)\n",
              "            (out_lin): Linear(in_features=768, out_features=768, bias=True)\n",
              "          )\n",
              "          (sa_layer_norm): LayerNorm((768,), eps=1e-12, elementwise_affine=True)\n",
              "          (ffn): FFN(\n",
              "            (dropout): Dropout(p=0.1, inplace=False)\n",
              "            (lin1): Linear(in_features=768, out_features=3072, bias=True)\n",
              "            (lin2): Linear(in_features=3072, out_features=768, bias=True)\n",
              "          )\n",
              "          (output_layer_norm): LayerNorm((768,), eps=1e-12, elementwise_affine=True)\n",
              "        )\n",
              "        (2): TransformerBlock(\n",
              "          (attention): MultiHeadSelfAttention(\n",
              "            (dropout): Dropout(p=0.1, inplace=False)\n",
              "            (q_lin): Linear(in_features=768, out_features=768, bias=True)\n",
              "            (k_lin): Linear(in_features=768, out_features=768, bias=True)\n",
              "            (v_lin): Linear(in_features=768, out_features=768, bias=True)\n",
              "            (out_lin): Linear(in_features=768, out_features=768, bias=True)\n",
              "          )\n",
              "          (sa_layer_norm): LayerNorm((768,), eps=1e-12, elementwise_affine=True)\n",
              "          (ffn): FFN(\n",
              "            (dropout): Dropout(p=0.1, inplace=False)\n",
              "            (lin1): Linear(in_features=768, out_features=3072, bias=True)\n",
              "            (lin2): Linear(in_features=3072, out_features=768, bias=True)\n",
              "          )\n",
              "          (output_layer_norm): LayerNorm((768,), eps=1e-12, elementwise_affine=True)\n",
              "        )\n",
              "        (3): TransformerBlock(\n",
              "          (attention): MultiHeadSelfAttention(\n",
              "            (dropout): Dropout(p=0.1, inplace=False)\n",
              "            (q_lin): Linear(in_features=768, out_features=768, bias=True)\n",
              "            (k_lin): Linear(in_features=768, out_features=768, bias=True)\n",
              "            (v_lin): Linear(in_features=768, out_features=768, bias=True)\n",
              "            (out_lin): Linear(in_features=768, out_features=768, bias=True)\n",
              "          )\n",
              "          (sa_layer_norm): LayerNorm((768,), eps=1e-12, elementwise_affine=True)\n",
              "          (ffn): FFN(\n",
              "            (dropout): Dropout(p=0.1, inplace=False)\n",
              "            (lin1): Linear(in_features=768, out_features=3072, bias=True)\n",
              "            (lin2): Linear(in_features=3072, out_features=768, bias=True)\n",
              "          )\n",
              "          (output_layer_norm): LayerNorm((768,), eps=1e-12, elementwise_affine=True)\n",
              "        )\n",
              "        (4): TransformerBlock(\n",
              "          (attention): MultiHeadSelfAttention(\n",
              "            (dropout): Dropout(p=0.1, inplace=False)\n",
              "            (q_lin): Linear(in_features=768, out_features=768, bias=True)\n",
              "            (k_lin): Linear(in_features=768, out_features=768, bias=True)\n",
              "            (v_lin): Linear(in_features=768, out_features=768, bias=True)\n",
              "            (out_lin): Linear(in_features=768, out_features=768, bias=True)\n",
              "          )\n",
              "          (sa_layer_norm): LayerNorm((768,), eps=1e-12, elementwise_affine=True)\n",
              "          (ffn): FFN(\n",
              "            (dropout): Dropout(p=0.1, inplace=False)\n",
              "            (lin1): Linear(in_features=768, out_features=3072, bias=True)\n",
              "            (lin2): Linear(in_features=3072, out_features=768, bias=True)\n",
              "          )\n",
              "          (output_layer_norm): LayerNorm((768,), eps=1e-12, elementwise_affine=True)\n",
              "        )\n",
              "        (5): TransformerBlock(\n",
              "          (attention): MultiHeadSelfAttention(\n",
              "            (dropout): Dropout(p=0.1, inplace=False)\n",
              "            (q_lin): Linear(in_features=768, out_features=768, bias=True)\n",
              "            (k_lin): Linear(in_features=768, out_features=768, bias=True)\n",
              "            (v_lin): Linear(in_features=768, out_features=768, bias=True)\n",
              "            (out_lin): Linear(in_features=768, out_features=768, bias=True)\n",
              "          )\n",
              "          (sa_layer_norm): LayerNorm((768,), eps=1e-12, elementwise_affine=True)\n",
              "          (ffn): FFN(\n",
              "            (dropout): Dropout(p=0.1, inplace=False)\n",
              "            (lin1): Linear(in_features=768, out_features=3072, bias=True)\n",
              "            (lin2): Linear(in_features=3072, out_features=768, bias=True)\n",
              "          )\n",
              "          (output_layer_norm): LayerNorm((768,), eps=1e-12, elementwise_affine=True)\n",
              "        )\n",
              "      )\n",
              "    )\n",
              "  )\n",
              "  (pre_classifier): Linear(in_features=768, out_features=768, bias=True)\n",
              "  (dropout): Dropout(p=0.1, inplace=False)\n",
              "  (classifier): Linear(in_features=768, out_features=6, bias=True)\n",
              ")"
            ]
          },
          "metadata": {},
          "execution_count": 80
        }
      ]
    },
    {
      "cell_type": "code",
      "source": [
        "dropout = 0.1\n",
        "out_neurons = 6\n",
        "\n",
        "class DistilBERTClass_Sigmoid(DistilBERTClass_Tanh):\n",
        "    def forward(self, input_ids, attention_mask, token_type_ids):\n",
        "        output_bert = self.l1(input_ids=input_ids, \n",
        "                              attention_mask=attention_mask)\n",
        "        hidden_state = output_bert[0]\n",
        "        out = hidden_state[:, 0]\n",
        "        out = self.pre_classifier(out)\n",
        "        out = torch.nn.Sigmoid()(out)\n",
        "        out = self.dropout(out)\n",
        "        output = self.classifier(out)\n",
        "        return output\n",
        "\n",
        "model_sigmoid = DistilBERTClass_Sigmoid()\n",
        "model_sigmoid.to(device)"
      ],
      "metadata": {
        "id": "O9--Fe0O9GRl",
        "colab": {
          "base_uri": "https://localhost:8080/"
        },
        "outputId": "34e68cad-2bee-4891-f99c-b1d611fee72b"
      },
      "execution_count": null,
      "outputs": [
        {
          "output_type": "execute_result",
          "data": {
            "text/plain": [
              "DistilBERTClass_Sigmoid(\n",
              "  (l1): DistilBertModel(\n",
              "    (embeddings): Embeddings(\n",
              "      (word_embeddings): Embedding(30522, 768, padding_idx=0)\n",
              "      (position_embeddings): Embedding(512, 768)\n",
              "      (LayerNorm): LayerNorm((768,), eps=1e-12, elementwise_affine=True)\n",
              "      (dropout): Dropout(p=0.1, inplace=False)\n",
              "    )\n",
              "    (transformer): Transformer(\n",
              "      (layer): ModuleList(\n",
              "        (0): TransformerBlock(\n",
              "          (attention): MultiHeadSelfAttention(\n",
              "            (dropout): Dropout(p=0.1, inplace=False)\n",
              "            (q_lin): Linear(in_features=768, out_features=768, bias=True)\n",
              "            (k_lin): Linear(in_features=768, out_features=768, bias=True)\n",
              "            (v_lin): Linear(in_features=768, out_features=768, bias=True)\n",
              "            (out_lin): Linear(in_features=768, out_features=768, bias=True)\n",
              "          )\n",
              "          (sa_layer_norm): LayerNorm((768,), eps=1e-12, elementwise_affine=True)\n",
              "          (ffn): FFN(\n",
              "            (dropout): Dropout(p=0.1, inplace=False)\n",
              "            (lin1): Linear(in_features=768, out_features=3072, bias=True)\n",
              "            (lin2): Linear(in_features=3072, out_features=768, bias=True)\n",
              "          )\n",
              "          (output_layer_norm): LayerNorm((768,), eps=1e-12, elementwise_affine=True)\n",
              "        )\n",
              "        (1): TransformerBlock(\n",
              "          (attention): MultiHeadSelfAttention(\n",
              "            (dropout): Dropout(p=0.1, inplace=False)\n",
              "            (q_lin): Linear(in_features=768, out_features=768, bias=True)\n",
              "            (k_lin): Linear(in_features=768, out_features=768, bias=True)\n",
              "            (v_lin): Linear(in_features=768, out_features=768, bias=True)\n",
              "            (out_lin): Linear(in_features=768, out_features=768, bias=True)\n",
              "          )\n",
              "          (sa_layer_norm): LayerNorm((768,), eps=1e-12, elementwise_affine=True)\n",
              "          (ffn): FFN(\n",
              "            (dropout): Dropout(p=0.1, inplace=False)\n",
              "            (lin1): Linear(in_features=768, out_features=3072, bias=True)\n",
              "            (lin2): Linear(in_features=3072, out_features=768, bias=True)\n",
              "          )\n",
              "          (output_layer_norm): LayerNorm((768,), eps=1e-12, elementwise_affine=True)\n",
              "        )\n",
              "        (2): TransformerBlock(\n",
              "          (attention): MultiHeadSelfAttention(\n",
              "            (dropout): Dropout(p=0.1, inplace=False)\n",
              "            (q_lin): Linear(in_features=768, out_features=768, bias=True)\n",
              "            (k_lin): Linear(in_features=768, out_features=768, bias=True)\n",
              "            (v_lin): Linear(in_features=768, out_features=768, bias=True)\n",
              "            (out_lin): Linear(in_features=768, out_features=768, bias=True)\n",
              "          )\n",
              "          (sa_layer_norm): LayerNorm((768,), eps=1e-12, elementwise_affine=True)\n",
              "          (ffn): FFN(\n",
              "            (dropout): Dropout(p=0.1, inplace=False)\n",
              "            (lin1): Linear(in_features=768, out_features=3072, bias=True)\n",
              "            (lin2): Linear(in_features=3072, out_features=768, bias=True)\n",
              "          )\n",
              "          (output_layer_norm): LayerNorm((768,), eps=1e-12, elementwise_affine=True)\n",
              "        )\n",
              "        (3): TransformerBlock(\n",
              "          (attention): MultiHeadSelfAttention(\n",
              "            (dropout): Dropout(p=0.1, inplace=False)\n",
              "            (q_lin): Linear(in_features=768, out_features=768, bias=True)\n",
              "            (k_lin): Linear(in_features=768, out_features=768, bias=True)\n",
              "            (v_lin): Linear(in_features=768, out_features=768, bias=True)\n",
              "            (out_lin): Linear(in_features=768, out_features=768, bias=True)\n",
              "          )\n",
              "          (sa_layer_norm): LayerNorm((768,), eps=1e-12, elementwise_affine=True)\n",
              "          (ffn): FFN(\n",
              "            (dropout): Dropout(p=0.1, inplace=False)\n",
              "            (lin1): Linear(in_features=768, out_features=3072, bias=True)\n",
              "            (lin2): Linear(in_features=3072, out_features=768, bias=True)\n",
              "          )\n",
              "          (output_layer_norm): LayerNorm((768,), eps=1e-12, elementwise_affine=True)\n",
              "        )\n",
              "        (4): TransformerBlock(\n",
              "          (attention): MultiHeadSelfAttention(\n",
              "            (dropout): Dropout(p=0.1, inplace=False)\n",
              "            (q_lin): Linear(in_features=768, out_features=768, bias=True)\n",
              "            (k_lin): Linear(in_features=768, out_features=768, bias=True)\n",
              "            (v_lin): Linear(in_features=768, out_features=768, bias=True)\n",
              "            (out_lin): Linear(in_features=768, out_features=768, bias=True)\n",
              "          )\n",
              "          (sa_layer_norm): LayerNorm((768,), eps=1e-12, elementwise_affine=True)\n",
              "          (ffn): FFN(\n",
              "            (dropout): Dropout(p=0.1, inplace=False)\n",
              "            (lin1): Linear(in_features=768, out_features=3072, bias=True)\n",
              "            (lin2): Linear(in_features=3072, out_features=768, bias=True)\n",
              "          )\n",
              "          (output_layer_norm): LayerNorm((768,), eps=1e-12, elementwise_affine=True)\n",
              "        )\n",
              "        (5): TransformerBlock(\n",
              "          (attention): MultiHeadSelfAttention(\n",
              "            (dropout): Dropout(p=0.1, inplace=False)\n",
              "            (q_lin): Linear(in_features=768, out_features=768, bias=True)\n",
              "            (k_lin): Linear(in_features=768, out_features=768, bias=True)\n",
              "            (v_lin): Linear(in_features=768, out_features=768, bias=True)\n",
              "            (out_lin): Linear(in_features=768, out_features=768, bias=True)\n",
              "          )\n",
              "          (sa_layer_norm): LayerNorm((768,), eps=1e-12, elementwise_affine=True)\n",
              "          (ffn): FFN(\n",
              "            (dropout): Dropout(p=0.1, inplace=False)\n",
              "            (lin1): Linear(in_features=768, out_features=3072, bias=True)\n",
              "            (lin2): Linear(in_features=3072, out_features=768, bias=True)\n",
              "          )\n",
              "          (output_layer_norm): LayerNorm((768,), eps=1e-12, elementwise_affine=True)\n",
              "        )\n",
              "      )\n",
              "    )\n",
              "  )\n",
              "  (pre_classifier): Linear(in_features=768, out_features=768, bias=True)\n",
              "  (dropout): Dropout(p=0.1, inplace=False)\n",
              "  (classifier): Linear(in_features=768, out_features=6, bias=True)\n",
              ")"
            ]
          },
          "metadata": {},
          "execution_count": 81
        }
      ]
    },
    {
      "cell_type": "markdown",
      "source": [
        "For optimizer we will be using Adam because it converge quickly."
      ],
      "metadata": {
        "id": "nxsl2ZOts7LM"
      }
    },
    {
      "cell_type": "code",
      "metadata": {
        "id": "oO49FuR9DXsW"
      },
      "source": [
        "optimizer_tanh = torch.optim.Adam(params = model_tanh.parameters(), lr=learning_rate)\n",
        "optimizer_sigmoid = torch.optim.Adam(params = model_sigmoid.parameters(), lr=learning_rate)"
      ],
      "execution_count": null,
      "outputs": []
    },
    {
      "cell_type": "markdown",
      "metadata": {
        "id": "_frCoix1NKUZ"
      },
      "source": [
        "### Fine Tuning "
      ]
    },
    {
      "cell_type": "markdown",
      "source": [
        "For loss function we will be using `torch.nn.functional.binary_cross_entropy_with_logits` because it is designed to multi-label classification problems."
      ],
      "metadata": {
        "id": "WFrLb35Mz5mH"
      }
    },
    {
      "cell_type": "code",
      "metadata": {
        "id": "fb9-Yr9YDZqo"
      },
      "source": [
        "def train(epoch,model, optimizer):\n",
        "    model.train()\n",
        "    for _,data in tqdm(enumerate(training_loader, 0)):\n",
        "        ids = data['ids'].to(device, dtype = torch.long)\n",
        "        mask = data['mask'].to(device, dtype = torch.long)\n",
        "        token_type_ids = data['token_type_ids'].to(device, dtype = torch.long)\n",
        "        targets = data['targets'].to(device, dtype = torch.float)\n",
        "\n",
        "        outputs = model(ids, mask, token_type_ids)\n",
        "\n",
        "        optimizer.zero_grad()\n",
        "        loss = torch.nn.functional.binary_cross_entropy_with_logits(outputs, targets)\n",
        "        if _%5000==0:\n",
        "            print(f'Epoch: {epoch}, Loss:  {loss.item()}')\n",
        "        \n",
        "        loss.backward()\n",
        "        optimizer.step()"
      ],
      "execution_count": null,
      "outputs": []
    },
    {
      "cell_type": "code",
      "metadata": {
        "id": "Reta6H84DcJq",
        "colab": {
          "base_uri": "https://localhost:8080/"
        },
        "outputId": "49fd79ae-b049-448a-a25d-135cc25ec1e4"
      },
      "source": [
        "for epoch in range(epochs):\n",
        "  train(epoch, model_tanh, optimizer_tanh)"
      ],
      "execution_count": null,
      "outputs": [
        {
          "output_type": "stream",
          "name": "stderr",
          "text": [
            "3it [00:00, 22.84it/s]"
          ]
        },
        {
          "output_type": "stream",
          "name": "stdout",
          "text": [
            "Epoch: 0, Loss:  0.6804854273796082\n"
          ]
        },
        {
          "output_type": "stream",
          "name": "stderr",
          "text": [
            "5006it [03:05, 28.51it/s]"
          ]
        },
        {
          "output_type": "stream",
          "name": "stdout",
          "text": [
            "Epoch: 0, Loss:  0.03380466252565384\n"
          ]
        },
        {
          "output_type": "stream",
          "name": "stderr",
          "text": [
            "10006it [06:09, 27.22it/s]"
          ]
        },
        {
          "output_type": "stream",
          "name": "stdout",
          "text": [
            "Epoch: 0, Loss:  0.0046075875870883465\n"
          ]
        },
        {
          "output_type": "stream",
          "name": "stderr",
          "text": [
            "15005it [09:16, 26.96it/s]"
          ]
        },
        {
          "output_type": "stream",
          "name": "stdout",
          "text": [
            "Epoch: 0, Loss:  0.04117945581674576\n"
          ]
        },
        {
          "output_type": "stream",
          "name": "stderr",
          "text": [
            "15957it [09:52, 26.91it/s]\n",
            "6it [00:00, 26.78it/s]"
          ]
        },
        {
          "output_type": "stream",
          "name": "stdout",
          "text": [
            "Epoch: 1, Loss:  0.012271231040358543\n"
          ]
        },
        {
          "output_type": "stream",
          "name": "stderr",
          "text": [
            "5004it [03:08, 26.60it/s]"
          ]
        },
        {
          "output_type": "stream",
          "name": "stdout",
          "text": [
            "Epoch: 1, Loss:  0.01622750423848629\n"
          ]
        },
        {
          "output_type": "stream",
          "name": "stderr",
          "text": [
            "10005it [06:17, 27.41it/s]"
          ]
        },
        {
          "output_type": "stream",
          "name": "stdout",
          "text": [
            "Epoch: 1, Loss:  0.13326503336429596\n"
          ]
        },
        {
          "output_type": "stream",
          "name": "stderr",
          "text": [
            "15005it [09:25, 27.22it/s]"
          ]
        },
        {
          "output_type": "stream",
          "name": "stdout",
          "text": [
            "Epoch: 1, Loss:  0.017137132585048676\n"
          ]
        },
        {
          "output_type": "stream",
          "name": "stderr",
          "text": [
            "15957it [10:00, 26.56it/s]\n"
          ]
        }
      ]
    },
    {
      "cell_type": "code",
      "source": [
        "for epoch in range(epochs):\n",
        "  train(epoch, model_sigmoid, optimizer_sigmoid)"
      ],
      "metadata": {
        "id": "yTArZqnp_Gyx",
        "colab": {
          "base_uri": "https://localhost:8080/"
        },
        "outputId": "161f94f2-4654-47dd-c77e-2d6fbc4a0844"
      },
      "execution_count": null,
      "outputs": [
        {
          "output_type": "stream",
          "name": "stderr",
          "text": [
            "5it [00:00, 24.73it/s]"
          ]
        },
        {
          "output_type": "stream",
          "name": "stdout",
          "text": [
            "Epoch: 0, Loss:  0.7121540307998657\n"
          ]
        },
        {
          "output_type": "stream",
          "name": "stderr",
          "text": [
            "5006it [03:08, 27.46it/s]"
          ]
        },
        {
          "output_type": "stream",
          "name": "stdout",
          "text": [
            "Epoch: 0, Loss:  0.19764244556427002\n"
          ]
        },
        {
          "output_type": "stream",
          "name": "stderr",
          "text": [
            "10005it [06:18, 26.35it/s]"
          ]
        },
        {
          "output_type": "stream",
          "name": "stdout",
          "text": [
            "Epoch: 0, Loss:  0.001592992222867906\n"
          ]
        },
        {
          "output_type": "stream",
          "name": "stderr",
          "text": [
            "15004it [09:28, 26.70it/s]"
          ]
        },
        {
          "output_type": "stream",
          "name": "stdout",
          "text": [
            "Epoch: 0, Loss:  0.04699455201625824\n"
          ]
        },
        {
          "output_type": "stream",
          "name": "stderr",
          "text": [
            "15957it [10:05, 26.37it/s]\n",
            "3it [00:00, 23.71it/s]"
          ]
        },
        {
          "output_type": "stream",
          "name": "stdout",
          "text": [
            "Epoch: 1, Loss:  0.0007979749934747815\n"
          ]
        },
        {
          "output_type": "stream",
          "name": "stderr",
          "text": [
            "5004it [03:12, 25.60it/s]"
          ]
        },
        {
          "output_type": "stream",
          "name": "stdout",
          "text": [
            "Epoch: 1, Loss:  0.0007459178450517356\n"
          ]
        },
        {
          "output_type": "stream",
          "name": "stderr",
          "text": [
            "10003it [06:19, 26.61it/s]"
          ]
        },
        {
          "output_type": "stream",
          "name": "stdout",
          "text": [
            "Epoch: 1, Loss:  0.047471269965171814\n"
          ]
        },
        {
          "output_type": "stream",
          "name": "stderr",
          "text": [
            "15003it [09:28, 24.95it/s]"
          ]
        },
        {
          "output_type": "stream",
          "name": "stdout",
          "text": [
            "Epoch: 1, Loss:  0.10829087346792221\n"
          ]
        },
        {
          "output_type": "stream",
          "name": "stderr",
          "text": [
            "15957it [10:04, 26.39it/s]\n"
          ]
        }
      ]
    },
    {
      "cell_type": "markdown",
      "metadata": {
        "id": "AFv7mNcuNKUh"
      },
      "source": [
        "### Validation\n",
        "For validation we will be using hamming score, hamming loss, weighted recall, precision and f1_score."
      ]
    },
    {
      "cell_type": "code",
      "metadata": {
        "id": "aPqZKQ1BDfLW"
      },
      "source": [
        "def validation_tanh(testing_loader, model):\n",
        "    model.eval()\n",
        "    fin_targets=[]\n",
        "    fin_outputs=[]\n",
        "    with torch.no_grad():\n",
        "        for _, data in tqdm(enumerate(testing_loader, 0)):\n",
        "            ids = data['ids'].to(device, dtype = torch.long)\n",
        "            mask = data['mask'].to(device, dtype = torch.long)\n",
        "            token_type_ids = data['token_type_ids'].to(device, dtype = torch.long)\n",
        "            targets = data['targets'].to(device, dtype = torch.float)\n",
        "            outputs = model(ids, mask, token_type_ids)\n",
        "            fin_targets.extend(targets.cpu().detach().numpy().tolist())\n",
        "            fin_outputs.extend(torch.tanh(outputs).cpu().detach().numpy().tolist())\n",
        "    return fin_outputs, fin_targets\n",
        "\n",
        "def validation_sigmoid(testing_loader, model):\n",
        "    model.eval()\n",
        "    fin_targets=[]\n",
        "    fin_outputs=[]\n",
        "    with torch.no_grad():\n",
        "        for _, data in tqdm(enumerate(testing_loader, 0)):\n",
        "            ids = data['ids'].to(device, dtype = torch.long)\n",
        "            mask = data['mask'].to(device, dtype = torch.long)\n",
        "            token_type_ids = data['token_type_ids'].to(device, dtype = torch.long)\n",
        "            targets = data['targets'].to(device, dtype = torch.float)\n",
        "            outputs = model(ids, mask, token_type_ids)\n",
        "            fin_targets.extend(targets.cpu().detach().numpy().tolist())\n",
        "            fin_outputs.extend(torch.sigmoid(outputs).cpu().detach().numpy().tolist())\n",
        "    return fin_outputs, fin_targets"
      ],
      "execution_count": null,
      "outputs": []
    },
    {
      "cell_type": "markdown",
      "source": [
        "We set treshold for each label equal 0.5"
      ],
      "metadata": {
        "id": "TfxiTkVQ1WZE"
      }
    },
    {
      "cell_type": "code",
      "metadata": {
        "id": "cQmJd7RvB4A-",
        "colab": {
          "base_uri": "https://localhost:8080/"
        },
        "outputId": "ddee3329-5670-4b17-d2a0-2fb98976e01d"
      },
      "source": [
        "outputs_tanh, targets = validation_sigmoid(testing_loader, model_tanh)\n",
        "final_outputs_tanh = np.array(outputs_tanh) >=0.5"
      ],
      "execution_count": null,
      "outputs": [
        {
          "output_type": "stream",
          "name": "stderr",
          "text": [
            "3990it [01:15, 52.72it/s]\n"
          ]
        }
      ]
    },
    {
      "cell_type": "code",
      "source": [
        "outputs_sigmoid, targets = validation_tanh(testing_loader, model_sigmoid)\n",
        "final_outputs_sigmoid = np.array(outputs_sigmoid) >=0.5"
      ],
      "metadata": {
        "id": "p479Y-5S_ZYU",
        "colab": {
          "base_uri": "https://localhost:8080/"
        },
        "outputId": "64d1da1a-5dee-42b0-87f4-486bd1ba99ca"
      },
      "execution_count": null,
      "outputs": [
        {
          "output_type": "stream",
          "name": "stderr",
          "text": [
            "3990it [01:15, 52.99it/s]\n"
          ]
        }
      ]
    },
    {
      "cell_type": "code",
      "metadata": {
        "id": "tr6XeiZW3YbT"
      },
      "source": [
        "def hamming_score(y_true, y_pred, normalize=True, sample_weight=None):\n",
        "    acc_list = []\n",
        "    for i in range(y_true.shape[0]):\n",
        "        set_true = set( np.where(y_true[i])[0] )\n",
        "        set_pred = set( np.where(y_pred[i])[0] )\n",
        "        tmp_a = None\n",
        "        if len(set_true) == 0 and len(set_pred) == 0:\n",
        "            tmp_a = 1\n",
        "        else:\n",
        "            tmp_a = len(set_true.intersection(set_pred))/\\\n",
        "                    float( len(set_true.union(set_pred)) )\n",
        "        acc_list.append(tmp_a)\n",
        "    return np.mean(acc_list)"
      ],
      "execution_count": null,
      "outputs": []
    },
    {
      "cell_type": "code",
      "metadata": {
        "id": "qekc58XPDhIp",
        "colab": {
          "base_uri": "https://localhost:8080/"
        },
        "outputId": "74d69d68-9b82-46aa-8013-5cb689773aed"
      },
      "source": [
        "val_hamming_loss = sklearn.metrics.hamming_loss(targets, final_outputs_tanh)\n",
        "val_hamming_score = hamming_score(np.array(targets), np.array(final_outputs_tanh))\n",
        "precision = sklearn.metrics.precision_score(y_true=targets, y_pred=final_outputs_tanh, average='weighted')\n",
        "recall = sklearn.metrics.recall_score(y_true=targets, y_pred=final_outputs_tanh, average='weighted')\n",
        "f1 = sklearn.metrics.f1_score(y_true=targets, y_pred=final_outputs_tanh, average='weighted')\n",
        "\n",
        "print(\"Tanh activation layer:\\n\")\n",
        "print(f\"Hamming Score = {val_hamming_score:.3f}\")\n",
        "print(f\"Hamming Loss = {val_hamming_loss:.3f}\")\n",
        "print(f\"Weigted Precision = {precision:.3f}\")\n",
        "print(f\"Weigted Recall = {recall:.3f}\")\n",
        "print(f\"Weigted f1_score = {f1:.3f}\")"
      ],
      "execution_count": null,
      "outputs": [
        {
          "output_type": "stream",
          "name": "stdout",
          "text": [
            "Tanh activation layer:\n",
            "\n",
            "Hamming Score = 0.819\n",
            "Hamming Loss = 0.069\n",
            "Weigted Precision = 0.063\n",
            "Weigted Recall = 0.063\n",
            "Weigted f1_score = 0.063\n"
          ]
        }
      ]
    },
    {
      "cell_type": "code",
      "source": [
        "val_hamming_loss = sklearn.metrics.hamming_loss(targets, final_outputs_sigmoid)\n",
        "val_hamming_score = hamming_score(np.array(targets), np.array(final_outputs_sigmoid))\n",
        "precision = sklearn.metrics.precision_score(y_true=targets, y_pred=final_outputs_sigmoid, average='weighted')\n",
        "recall = sklearn.metrics.recall_score(y_true=targets, y_pred=final_outputs_sigmoid, average='weighted')\n",
        "f1 = sklearn.metrics.f1_score(y_true=targets, y_pred=final_outputs_sigmoid, average='weighted')\n",
        "\n",
        "print(\"Sigmoid activation layer:\\n\")\n",
        "print(f\"Hamming Score = {val_hamming_score:.3f}\")\n",
        "print(f\"Hamming Loss = {val_hamming_loss:.3f}\")\n",
        "print(f\"Weigted Precision = {precision:.3f}\")\n",
        "print(f\"Weigted Recall = {recall:.3f}\")\n",
        "print(f\"Weigted f1_score = {f1:.3f}\")"
      ],
      "metadata": {
        "id": "TabE9EvTNbb4",
        "colab": {
          "base_uri": "https://localhost:8080/"
        },
        "outputId": "1c88751e-4b03-4c6d-d0a7-6e82a71fc8e9"
      },
      "execution_count": null,
      "outputs": [
        {
          "output_type": "stream",
          "name": "stdout",
          "text": [
            "Sigmoid activation layer:\n",
            "\n",
            "Hamming Score = 0.952\n",
            "Hamming Loss = 0.015\n",
            "Weigted Precision = 0.825\n",
            "Weigted Recall = 0.752\n",
            "Weigted f1_score = 0.773\n"
          ]
        }
      ]
    },
    {
      "cell_type": "markdown",
      "source": [
        "Tanh confusion matrixes:"
      ],
      "metadata": {
        "id": "G_JoBNpDbeFP"
      }
    },
    {
      "cell_type": "code",
      "source": [
        "matrix_tanh = multilabel_confusion_matrix(targets, final_outputs_tanh)\n",
        "\n",
        "f, axes = plt.subplots(2, 3, figsize=(25, 15))\n",
        "axes = axes.ravel()\n",
        "for  cfs_matrix, label, i in zip(matrix_tanh, target, range(6)):\n",
        "    disp = sklearn.metrics.ConfusionMatrixDisplay(cfs_matrix,\n",
        "                                  display_labels=[\"0\", \"1\"])\n",
        "    disp.plot(ax=axes[i], values_format='d')\n",
        "    disp.ax_.set_title(f'{label}')\n",
        "    if i<10:\n",
        "        disp.ax_.set_xlabel('')\n",
        "    if i%5!=0:\n",
        "        disp.ax_.set_ylabel('')\n",
        "    disp.im_.colorbar.remove()\n",
        "\n",
        "plt.subplots_adjust(wspace=0.10, hspace=0.1)\n",
        "f.colorbar(disp.im_, ax=axes)\n",
        "plt.show()"
      ],
      "metadata": {
        "colab": {
          "base_uri": "https://localhost:8080/",
          "height": 846
        },
        "id": "378Nif9E5WRC",
        "outputId": "3c88ee35-7c5f-48be-e8c6-8f83453acef6"
      },
      "execution_count": null,
      "outputs": [
        {
          "output_type": "display_data",
          "data": {
            "text/plain": [
              "<Figure size 1800x1080 with 7 Axes>"
            ],
            "image/png": "[encoded data removed]"
          },
          "metadata": {
            "needs_background": "light"
          }
        }
      ]
    },
    {
      "cell_type": "code",
      "source": [
        "matrix_sigmoid = multilabel_confusion_matrix(targets, final_outputs_sigmoid)\n",
        "f, axes = plt.subplots(2, 3, figsize=(25, 15))\n",
        "axes = axes.ravel()\n",
        "for  cfs_matrix, label, i in zip(matrix_tanh, target, range(6)):\n",
        "    disp = sklearn.metrics.ConfusionMatrixDisplay(cfs_matrix/cfs_matrix.sum(),\n",
        "                                  display_labels=[\"0\", \"1\"])\n",
        "    disp.plot(ax=axes[i], values_format='.2g')\n",
        "    disp.ax_.set_title(f'{label}')\n",
        "    if i<10:\n",
        "        disp.ax_.set_xlabel('')\n",
        "    if i%5!=0:\n",
        "        disp.ax_.set_ylabel('')\n",
        "    disp.im_.colorbar.remove()\n",
        "\n",
        "plt.subplots_adjust(wspace=0.10, hspace=0.1)\n",
        "f.colorbar(disp.im_, ax=axes)\n",
        "plt.show()"
      ],
      "metadata": {
        "colab": {
          "base_uri": "https://localhost:8080/",
          "height": 846
        },
        "id": "LR7_L6lUdCKE",
        "outputId": "c005fd74-4d01-452e-fe45-b331d2c57291"
      },
      "execution_count": null,
      "outputs": [
        {
          "output_type": "display_data",
          "data": {
            "text/plain": [
              "<Figure size 1800x1080 with 7 Axes>"
            ],
            "image/png": "[encoded data removed]"
          },
          "metadata": {
            "needs_background": "light"
          }
        }
      ]
    },
    {
      "cell_type": "markdown",
      "source": [
        "Sigmoid confusion matrixes:"
      ],
      "metadata": {
        "id": "vVgoE8JgbtaH"
      }
    },
    {
      "cell_type": "code",
      "source": [
        "matrix_sigmoid = multilabel_confusion_matrix(targets, final_outputs_sigmoid)\n",
        "\n",
        "f, axes = plt.subplots(2, 3, figsize=(25, 15))\n",
        "axes = axes.ravel()\n",
        "for  cfs_matrix, label, i in zip(matrix_sigmoid, target, range(6)):\n",
        "    disp = sklearn.metrics.ConfusionMatrixDisplay(cfs_matrix,\n",
        "                                  display_labels=[\"0\", \"1\"])\n",
        "    disp.plot(ax=axes[i], values_format='d')\n",
        "    disp.ax_.set_title(f'{label}')\n",
        "    if i<10:\n",
        "        disp.ax_.set_xlabel('')\n",
        "    if i%5!=0:\n",
        "        disp.ax_.set_ylabel('')\n",
        "    disp.im_.colorbar.remove()\n",
        "\n",
        "plt.subplots_adjust(wspace=0.10, hspace=0.1)\n",
        "f.colorbar(disp.im_, ax=axes)\n",
        "plt.show()"
      ],
      "metadata": {
        "id": "XkYCDB2POO0_",
        "colab": {
          "base_uri": "https://localhost:8080/",
          "height": 846
        },
        "outputId": "6d50d0d1-5217-45cd-9362-133a184ae619"
      },
      "execution_count": null,
      "outputs": [
        {
          "output_type": "display_data",
          "data": {
            "text/plain": [
              "<Figure size 1800x1080 with 7 Axes>"
            ],
            "image/png": "[encoded data removed]"
          },
          "metadata": {
            "needs_background": "light"
          }
        }
      ]
    },
    {
      "cell_type": "code",
      "source": [
        "f, axes = plt.subplots(2, 3, figsize=(25, 15))\n",
        "axes = axes.ravel()\n",
        "for  cfs_matrix, label, i in zip(matrix_sigmoid, target, range(6)):\n",
        "    disp = sklearn.metrics.ConfusionMatrixDisplay(cfs_matrix/cfs_matrix.sum(),\n",
        "                                  display_labels=[\"0\", \"1\"])\n",
        "    disp.plot(ax=axes[i], values_format='.2g')\n",
        "    disp.ax_.set_title(f'{label}')\n",
        "    if i<10:\n",
        "        disp.ax_.set_xlabel('')\n",
        "    if i%5!=0:\n",
        "        disp.ax_.set_ylabel('')\n",
        "    disp.im_.colorbar.remove()\n",
        "\n",
        "plt.subplots_adjust(wspace=0.10, hspace=0.1)\n",
        "f.colorbar(disp.im_, ax=axes)\n",
        "plt.title(\"Sigmoid confusion matrixes\")\n",
        "plt.show()"
      ],
      "metadata": {
        "id": "rAuWLNRDOarL",
        "colab": {
          "base_uri": "https://localhost:8080/",
          "height": 846
        },
        "outputId": "8940a108-6e1b-4849-f6dd-bbb3dd9b02d6"
      },
      "execution_count": null,
      "outputs": [
        {
          "output_type": "display_data",
          "data": {
            "text/plain": [
              "<Figure size 1800x1080 with 7 Axes>"
            ],
            "image/png": "[encoded data removed]"
          },
          "metadata": {
            "needs_background": "light"
          }
        }
      ]
    },
    {
      "cell_type": "markdown",
      "source": [
        "Conclusion:\n",
        "- DestilBERT model did a great job of categorization, especially when it came to one with the singmoid activation layer model. The best results were achieved in toxic, obscene and insult, the worse results in teszcze categories are related to the small number of training examples from these categories. \n",
        "\n",
        "- Better results can be achieved by teaching the model for more epochs or using dynamic example length, and more new layers could also be helpful."
      ],
      "metadata": {
        "id": "3m5dgL_wvqm_"
      }
    }
  ]
}